{
 "cells": [
  {
   "cell_type": "code",
   "execution_count": 327,
   "metadata": {
    "collapsed": true
   },
   "outputs": [],
   "source": [
    "import pandas as pd\n",
    "import numpy as np\n",
    "\n",
    "test_set = pd.read_csv('./tianchi_ad/test.txt',sep=' ')\n",
    "train_set = pd.read_csv('./tianchi_ad/train.txt',sep=' ')\n",
    "\n"
   ]
  },
  {
   "cell_type": "code",
   "execution_count": 328,
   "metadata": {},
   "outputs": [
    {
     "name": "stdout",
     "output_type": "stream",
     "text": [
      "<class 'pandas.core.frame.DataFrame'>\nRangeIndex: 18371 entries, 0 to 18370\nData columns (total 26 columns):\ninstance_id                  18371 non-null int64\nitem_id                      18371 non-null int64\nitem_category_list           18371 non-null object\nitem_property_list           18371 non-null object\nitem_brand_id                18371 non-null int64\nitem_city_id                 18371 non-null int64\nitem_price_level             18371 non-null int64\nitem_sales_level             18371 non-null int64\nitem_collected_level         18371 non-null int64\nitem_pv_level                18371 non-null int64\nuser_id                      18371 non-null int64\nuser_gender_id               18371 non-null int64\nuser_age_level               18371 non-null int64\nuser_occupation_id           18371 non-null int64\nuser_star_level              18371 non-null int64\ncontext_id                   18371 non-null int64\ncontext_timestamp            18371 non-null int64\ncontext_page_id              18371 non-null int64\npredict_category_property    18371 non-null object\nshop_id                      18371 non-null int64\nshop_review_num_level        18371 non-null int64\nshop_review_positive_rate    18371 non-null float64\nshop_star_level              18371 non-null int64\nshop_score_service           18371 non-null float64\nshop_score_delivery          18371 non-null float64\nshop_score_description       18371 non-null float64\ndtypes: float64(4), int64(19), object(3)\nmemory usage: 3.6+ MB\n"
     ]
    }
   ],
   "source": [
    "test_set.info()"
   ]
  },
  {
   "cell_type": "code",
   "execution_count": 329,
   "metadata": {
    "collapsed": true
   },
   "outputs": [
    {
     "name": "stdout",
     "output_type": "stream",
     "text": [
      "<class 'pandas.core.frame.DataFrame'>\nRangeIndex: 478138 entries, 0 to 478137\nData columns (total 27 columns):\ninstance_id                  478138 non-null int64\nitem_id                      478138 non-null int64\nitem_category_list           478138 non-null object\nitem_property_list           478138 non-null object\nitem_brand_id                478138 non-null int64\nitem_city_id                 478138 non-null int64\nitem_price_level             478138 non-null int64\nitem_sales_level             478138 non-null int64\nitem_collected_level         478138 non-null int64\nitem_pv_level                478138 non-null int64\nuser_id                      478138 non-null int64\nuser_gender_id               478138 non-null int64\nuser_age_level               478138 non-null int64\nuser_occupation_id           478138 non-null int64\nuser_star_level              478138 non-null int64\ncontext_id                   478138 non-null int64\ncontext_timestamp            478138 non-null int64\ncontext_page_id              478138 non-null int64\npredict_category_property    478138 non-null object\nshop_id                      478138 non-null int64\nshop_review_num_level        478138 non-null int64\nshop_review_positive_rate    478138 non-null float64\nshop_star_level              478138 non-null int64\nshop_score_service           478138 non-null float64\nshop_score_delivery          478138 non-null float64\nshop_score_description       478138 non-null float64\nis_trade                     478138 non-null int64\ndtypes: float64(4), int64(20), object(3)\nmemory usage: 98.5+ MB\n"
     ]
    }
   ],
   "source": [
    "train_set.info()"
   ]
  },
  {
   "cell_type": "code",
   "execution_count": 330,
   "metadata": {
    "collapsed": false
   },
   "outputs": [],
   "source": [
    "train_set['dayofweek'] = (train_set['context_timestamp']/(60*60*24)).apply(np.floor)%7\n",
    "train_set['hourofday'] = (train_set['context_timestamp']/(60*60)).apply(np.floor)%24\n",
    "train_set['minofday'] = (train_set['context_timestamp']/(60)).apply(np.floor)%(24*60)\n",
    "\n",
    "\n",
    "test_set['is_trade'] = -1\n",
    "test_set['dayofweek'] = (test_set['context_timestamp']/(60*60*24)).apply(np.floor)%7\n",
    "test_set['hourofday'] = (test_set['context_timestamp']/(60*60)).apply(np.floor)%24\n",
    "test_set['minofday'] = (test_set['context_timestamp']/(60)).apply(np.floor)%(24*60)\n"
   ]
  },
  {
   "cell_type": "code",
   "execution_count": 331,
   "metadata": {},
   "outputs": [
    {
     "data": {
      "text/plain": [
       "17798.0"
      ]
     },
     "execution_count": 331,
     "metadata": {},
     "output_type": "execute_result"
    }
   ],
   "source": [
    "(train_set['context_timestamp']/(60*60*24)).apply(np.floor).max()"
   ]
  },
  {
   "cell_type": "code",
   "execution_count": 332,
   "metadata": {},
   "outputs": [
    {
     "data": {
      "text/plain": [
       "5.0"
      ]
     },
     "execution_count": 332,
     "metadata": {},
     "output_type": "execute_result"
    }
   ],
   "source": [
    "(test_set['context_timestamp']/(60*60*24)).apply(np.floor).max()%7"
   ]
  },
  {
   "cell_type": "code",
   "execution_count": 333,
   "metadata": {},
   "outputs": [],
   "source": [
    "train_set_4_rate = train_set[train_set['dayofweek'] != 5]"
   ]
  },
  {
   "cell_type": "code",
   "execution_count": 334,
   "metadata": {},
   "outputs": [
    {
     "data": {
      "text/plain": [
       "(400644, 30)"
      ]
     },
     "execution_count": 334,
     "metadata": {},
     "output_type": "execute_result"
    }
   ],
   "source": [
    "train_set_4_rate.shape"
   ]
  },
  {
   "cell_type": "code",
   "execution_count": 335,
   "metadata": {},
   "outputs": [],
   "source": [
    "# add item_id_rate\n",
    "item_id_rate = train_set_4_rate.groupby(['item_id'])['is_trade'].mean().reset_index()\n",
    "\n",
    "item_id_rate.columns = ['item_id','item_id_rate']\n",
    "\n",
    "train_add_item_id_rate = pd.merge(train_set,item_id_rate,how='left',on=['item_id'])\n",
    "test_add_item_id_rate = pd.merge(test_set,item_id_rate,how='left',on=['item_id'])\n",
    "\n",
    "\n"
   ]
  },
  {
   "cell_type": "code",
   "execution_count": 336,
   "metadata": {},
   "outputs": [],
   "source": [
    "# add item_brand_id_rate\n",
    "item_brand_id_rate = train_set_4_rate.groupby(['item_brand_id'])['is_trade'].mean().reset_index()\n",
    "\n",
    "item_brand_id_rate.columns = ['item_brand_id','item_brand_id_rate']\n",
    "\n",
    "train_add_item_brand_id_rate = pd.merge(train_add_item_id_rate,item_brand_id_rate,how='left',on=['item_brand_id'])\n",
    "test_add_item_brand_id_rate = pd.merge(test_add_item_id_rate,item_brand_id_rate,how='left',on=['item_brand_id'])\n"
   ]
  },
  {
   "cell_type": "code",
   "execution_count": 337,
   "metadata": {},
   "outputs": [],
   "source": [
    "# add item_city_id_rate\n",
    "item_city_id_rate = train_set_4_rate.groupby(['item_city_id'])['is_trade'].mean().reset_index()\n",
    "\n",
    "item_city_id_rate.columns = ['item_city_id','item_city_id_rate']\n",
    "\n",
    "train_add_item_city_id_rate = pd.merge(train_add_item_brand_id_rate,item_city_id_rate,how='left',on=['item_city_id'])\n",
    "test_add_item_city_id_rate = pd.merge(test_add_item_brand_id_rate,item_city_id_rate,how='left',on=['item_city_id'])\n"
   ]
  },
  {
   "cell_type": "code",
   "execution_count": 338,
   "metadata": {},
   "outputs": [],
   "source": [
    "# add user_id rate\n",
    "user_id_rate = train_set_4_rate.groupby(['user_id'])['is_trade'].mean().reset_index()\n",
    "\n",
    "user_id_rate.columns = ['user_id','user_id_rate']\n",
    "\n",
    "train_add_user_id_rate = pd.merge(train_add_item_city_id_rate,user_id_rate,how='left',on=['user_id'])\n",
    "test_add_user_id_rate = pd.merge(test_add_item_city_id_rate,user_id_rate,how='left',on=['user_id'])\n"
   ]
  },
  {
   "cell_type": "code",
   "execution_count": 339,
   "metadata": {},
   "outputs": [],
   "source": [
    "# add shop_id rate\n",
    "shop_id_rate = train_set_4_rate.groupby(['shop_id'])['is_trade'].mean().reset_index()\n",
    "\n",
    "shop_id_rate.columns = ['shop_id','shop_id_rate']\n",
    "\n",
    "train_add_shop_id_rate = pd.merge(train_add_user_id_rate,shop_id_rate,how='left',on=['shop_id'])\n",
    "test_add_shop_id_rate = pd.merge(test_add_user_id_rate,shop_id_rate,how='left',on=['shop_id'])"
   ]
  },
  {
   "cell_type": "code",
   "execution_count": 340,
   "metadata": {},
   "outputs": [],
   "source": [
    "# add minofday rate\n",
    "minofday_rate = train_set_4_rate.groupby(['minofday'])['is_trade'].mean().reset_index()\n",
    "\n",
    "minofday_rate.columns = ['minofday','minofday_rate']\n",
    "\n",
    "train_all = pd.merge(train_add_shop_id_rate,minofday_rate,how='left',on=['minofday'])\n",
    "test_all = pd.merge(test_add_shop_id_rate,minofday_rate,how='left',on=['minofday'])"
   ]
  },
  {
   "cell_type": "code",
   "execution_count": 341,
   "metadata": {},
   "outputs": [
    {
     "name": "stdout",
     "output_type": "stream",
     "text": [
      "<class 'pandas.core.frame.DataFrame'>\nInt64Index: 18371 entries, 0 to 18370\nData columns (total 36 columns):\ninstance_id                  18371 non-null int64\nitem_id                      18371 non-null int64\nitem_category_list           18371 non-null object\nitem_property_list           18371 non-null object\nitem_brand_id                18371 non-null int64\nitem_city_id                 18371 non-null int64\nitem_price_level             18371 non-null int64\nitem_sales_level             18371 non-null int64\nitem_collected_level         18371 non-null int64\nitem_pv_level                18371 non-null int64\nuser_id                      18371 non-null int64\nuser_gender_id               18371 non-null int64\nuser_age_level               18371 non-null int64\nuser_occupation_id           18371 non-null int64\nuser_star_level              18371 non-null int64\ncontext_id                   18371 non-null int64\ncontext_timestamp            18371 non-null int64\ncontext_page_id              18371 non-null int64\npredict_category_property    18371 non-null object\nshop_id                      18371 non-null int64\nshop_review_num_level        18371 non-null int64\nshop_review_positive_rate    18371 non-null float64\nshop_star_level              18371 non-null int64\nshop_score_service           18371 non-null float64\nshop_score_delivery          18371 non-null float64\nshop_score_description       18371 non-null float64\nis_trade                     18371 non-null int64\ndayofweek                    18371 non-null float64\nhourofday                    18371 non-null float64\nminofday                     18371 non-null float64\nitem_id_rate                 18142 non-null float64\nitem_brand_id_rate           18345 non-null float64\nitem_city_id_rate            18369 non-null float64\nuser_id_rate                 4770 non-null float64\nshop_id_rate                 18315 non-null float64\nminofday_rate                18371 non-null float64\ndtypes: float64(13), int64(20), object(3)\nmemory usage: 5.2+ MB\n"
     ]
    }
   ],
   "source": [
    "test_all.info()"
   ]
  },
  {
   "cell_type": "code",
   "execution_count": 342,
   "metadata": {},
   "outputs": [
    {
     "data": {
      "image/png": "[encoded data removed]",
      "text/plain": [
       "<matplotlib.figure.Figure at 0x11ab63630>"
      ]
     },
     "metadata": {},
     "output_type": "display_data"
    }
   ],
   "source": [
    "import matplotlib.pyplot as plt \n",
    "train_all.hist(bins=50, figsize=(20,15)) \n",
    "plt.show()"
   ]
  },
  {
   "cell_type": "code",
   "execution_count": 343,
   "metadata": {},
   "outputs": [
    {
     "data": {
      "text/plain": [
       "is_trade                     1.000000\nuser_id_rate                 0.695095\nitem_id_rate                 0.157635\nshop_id_rate                 0.129387\nitem_brand_id_rate           0.106233\nminofday_rate                0.057039\nitem_city_id_rate            0.050501\nitem_sales_level             0.037358\nitem_collected_level         0.013972\nuser_gender_id               0.008843\nitem_pv_level                0.006077\nuser_age_level               0.002628\nuser_star_level              0.002239\nuser_occupation_id           0.002026\ndayofweek                    0.000912\nuser_id                      0.000255\nitem_id                     -0.000168\nshop_star_level             -0.000735\nshop_review_num_level       -0.000747\ninstance_id                 -0.002158\nshop_id                     -0.003238\ncontext_id                  -0.003459\nitem_brand_id               -0.005311\ncontext_timestamp           -0.009274\ncontext_page_id             -0.012313\nitem_city_id                -0.014622\nshop_score_service          -0.015578\nshop_score_delivery         -0.016239\nhourofday                   -0.016492\nminofday                    -0.016631\nshop_score_description      -0.016734\nshop_review_positive_rate   -0.017355\nitem_price_level            -0.055895\nName: is_trade, dtype: float64"
      ]
     },
     "execution_count": 343,
     "metadata": {},
     "output_type": "execute_result"
    }
   ],
   "source": [
    "corr_matrix = train_all.corr()\n",
    "corr_matrix[\"is_trade\"].sort_values(ascending=False)"
   ]
  },
  {
   "cell_type": "code",
   "execution_count": 344,
   "metadata": {},
   "outputs": [],
   "source": [
    "label_attrib = ['is_trade','instance_id','dayofweek']\n",
    "#delete_attribs = ['instance_id','item_id','item_brand_id','item_city_id','user_id','context_id','shop_id','minofday']\n",
    "text_attribs = ['item_category_list','item_property_list','predict_category_property']\n",
    "# user_id_rate 空缺太多，不使用\n",
    "org_attribs = ['item_id_rate','item_brand_id_rate','item_city_id_rate','shop_review_positive_rate'\n",
    "               ,'shop_score_service','shop_score_delivery','shop_score_description','shop_id_rate','minofday_rate']\n",
    "cat_attribs = ['item_price_level','item_sales_level','item_collected_level','item_pv_level',\n",
    "               'user_gender_id','user_age_level','user_occupation_id','user_star_level','context_page_id'\n",
    "               ,'shop_review_num_level','shop_star_level','dayofweek','hourofday']"
   ]
  },
  {
   "cell_type": "code",
   "execution_count": 345,
   "metadata": {},
   "outputs": [],
   "source": [
    "data_all = train_all.append(test_all)"
   ]
  },
  {
   "cell_type": "code",
   "execution_count": 346,
   "metadata": {},
   "outputs": [],
   "source": [
    "# 使得 cat_attribs 全为非负数 \n",
    "for feature in cat_attribs:\n",
    "    max_ = data_all[feature].max()\n",
    "    data_all[feature] = (data_all[feature] - max_) * (-1)\n",
    "    "
   ]
  },
  {
   "cell_type": "code",
   "execution_count": 347,
   "metadata": {},
   "outputs": [
    {
     "data": {
      "text/plain": [
       "(496509, 212)"
      ]
     },
     "execution_count": 347,
     "metadata": {},
     "output_type": "execute_result"
    }
   ],
   "source": [
    "from sklearn.pipeline import Pipeline\n",
    "from sklearn.preprocessing import StandardScaler\n",
    "from sklearn.preprocessing import Imputer\n",
    "from sklearn.pipeline import FeatureUnion \n",
    "from sklearn.base import BaseEstimator, TransformerMixin\n",
    "from sklearn.preprocessing import OneHotEncoder\n",
    "\n",
    "class DataFrameSelector(BaseEstimator, TransformerMixin):\n",
    "    def __init__(self, attribute_names):\n",
    "        self.attribute_names = attribute_names\n",
    "    def fit(self, X, y=None):\n",
    "        return self\n",
    "    def transform(self, X):\n",
    "        return X[self.attribute_names].values\n",
    "\n",
    " \n",
    "    \n",
    "labels_pipeline = Pipeline([\n",
    "             ('selector', DataFrameSelector(label_attrib)),\n",
    "])   \n",
    "\n",
    "org_pipeline = Pipeline([\n",
    "             ('selector', DataFrameSelector(org_attribs)),\n",
    "             ('imputer', Imputer(strategy=\"mean\")),\n",
    "])   \n",
    "\n",
    "\n",
    "cat_pipeline = Pipeline([\n",
    "             ('selector', DataFrameSelector(cat_attribs)),\n",
    "             ('imputer', Imputer(strategy=\"most_frequent\")),\n",
    "             ('label_binarizer', OneHotEncoder()),\n",
    "])\n",
    "full_pipeline = FeatureUnion(transformer_list=[\n",
    "             (\"labels_pipeline\", labels_pipeline),\n",
    "             (\"org_pipeline\", org_pipeline),\n",
    "             (\"cat_pipeline\", cat_pipeline),\n",
    "])\n",
    "\n",
    "data_prepared = full_pipeline.fit_transform(data_all)\n",
    "data_prepared.shape\n",
    "\n"
   ]
  },
  {
   "cell_type": "code",
   "execution_count": 348,
   "metadata": {},
   "outputs": [],
   "source": [
    " \n",
    "data_prepared_pd = pd.DataFrame(data_prepared.toarray())"
   ]
  },
  {
   "cell_type": "code",
   "execution_count": 395,
   "metadata": {},
   "outputs": [],
   "source": [
    "tmp_set_s = data_prepared_pd[data_prepared_pd[0] != -1]\n",
    "test_set_s = data_prepared_pd[data_prepared_pd[0] == -1]\n",
    "v_set_s = tmp_set_s[tmp_set_s[2] == 5]\n",
    "train_set_s = tmp_set_s[tmp_set_s[2] != 5]\n",
    "\n",
    "# 正式训练时\n",
    "train_set_s = tmp_set_s\n",
    "\n",
    "y_train = train_set_s[[0]]#.reshape(-1,2)\n",
    "y_v = v_set_s[[0]]\n",
    "y_test = test_set_s[[0]]#.reshape(-1,2)\n",
    "\n",
    "X_train = train_set_s.drop([0,1,2],axis=1)\n",
    "X_v = v_set_s.drop([0,1,2],axis=1)\n",
    "X_test = test_set_s.drop([0,1,2],axis=1)\n",
    "\n",
    "\n"
   ]
  },
  {
   "cell_type": "code",
   "execution_count": 396,
   "metadata": {},
   "outputs": [],
   "source": [
    "X_test_arr = X_test.values\n",
    "X_train_arr = X_train.values"
   ]
  },
  {
   "cell_type": "code",
   "execution_count": 397,
   "metadata": {},
   "outputs": [
    {
     "data": {
      "text/plain": [
       "71236"
      ]
     },
     "execution_count": 397,
     "metadata": {},
     "output_type": "execute_result"
    }
   ],
   "source": [
    "len(X_v)"
   ]
  },
  {
   "cell_type": "code",
   "execution_count": 398,
   "metadata": {},
   "outputs": [
    {
     "data": {
      "text/plain": [
       "478138"
      ]
     },
     "execution_count": 398,
     "metadata": {},
     "output_type": "execute_result"
    }
   ],
   "source": [
    "len(X_train)"
   ]
  },
  {
   "cell_type": "code",
   "execution_count": 399,
   "metadata": {},
   "outputs": [],
   "source": [
    "import tensorflow as tf\n",
    "\n",
    "def reset_graph(seed=42):\n",
    "    tf.reset_default_graph()\n",
    "    tf.set_random_seed(seed)\n",
    "    np.random.seed(seed)\n",
    "    \n",
    "\n",
    "def neuron_layer(X, n_neurons, name, activation=None,keep_prob=1.0):\n",
    "    with tf.name_scope(name):\n",
    "        n_inputs = int(X.get_shape()[1])\n",
    "        stddev = 2 / np.sqrt(n_inputs)\n",
    "        init = tf.truncated_normal((n_inputs, n_neurons), stddev=stddev)\n",
    "        W = tf.Variable(init, name=\"kernel\")\n",
    "        b = tf.Variable(tf.zeros([n_neurons]), name=\"bias\")\n",
    "        Z = tf.matmul(X, W) + b\n",
    "        if activation is not None:\n",
    "            return tf.nn.dropout(activation(Z),keep_prob)\n",
    "        else:\n",
    "            return tf.nn.dropout(Z,keep_prob)"
   ]
  },
  {
   "cell_type": "code",
   "execution_count": 400,
   "metadata": {},
   "outputs": [],
   "source": [
    "batch_size = 256\n",
    "num_iters = 100\n",
    "\n",
    "all_size = len(X_train_arr) \n"
   ]
  },
  {
   "cell_type": "code",
   "execution_count": 401,
   "metadata": {},
   "outputs": [],
   "source": [
    "# nn\n",
    "reset_graph()\n",
    "\n",
    "n_features = X_train.shape[1]\n",
    "hidden1_n = 128\n",
    "hidden2_n = 64\n",
    "hidden3_n = 32\n",
    "hidden4_n = 16\n",
    "hidden5_n = 16\n",
    "hidden6_n = 8\n",
    "\n",
    "X = tf.placeholder(tf.float32, shape=(None, n_features), name=\"user_X\")\n",
    "Y = tf.placeholder(tf.float32, shape=(None,1), name=\"y\")\n",
    "\n",
    "keep_prob = tf.placeholder(tf.float32) \n",
    "\n",
    "\n",
    "hidden1 = neuron_layer(X,hidden1_n, name=\"hidden1\",activation=tf.nn.leaky_relu,keep_prob=keep_prob)  \n",
    "hidden2 = neuron_layer(hidden1,hidden2_n, name=\"hidden2\",activation=tf.nn.leaky_relu,keep_prob=keep_prob)\n",
    "hidden3 = neuron_layer(hidden2,hidden3_n, name=\"hidden3\",activation=tf.nn.leaky_relu,keep_prob=keep_prob)\n",
    "hidden4 = neuron_layer(hidden3,hidden4_n, name=\"hidden4\",activation=tf.nn.leaky_relu,keep_prob=keep_prob)\n",
    "hidden5 = neuron_layer(hidden4,hidden5_n, name=\"hidden5\",activation=tf.nn.leaky_relu,keep_prob=keep_prob)\n",
    "hidden6 = neuron_layer(hidden5,hidden6_n, name=\"hidden6\",activation=tf.nn.leaky_relu,keep_prob=keep_prob)\n",
    "\n",
    "output = neuron_layer(hidden6,1, name=\"output\")\n",
    "#cost  = tf.reduce_mean(tf.square(output - Y) * 100)\n",
    "#output = neuron_layer(hidden3,1, name=\"output\")\n",
    "\n",
    "cost = tf.reduce_mean(tf.nn.sigmoid_cross_entropy_with_logits(logits= output, labels=Y))\n",
    "#cost = tf.reduce_mean(tf.nn.softmax_cross_entropy_with_logits(labels=Y, logits=output))  \n",
    "    \n",
    "train_op = tf.train.AdamOptimizer(0.001).minimize(cost)\n",
    "\n",
    "predict_op = tf.nn.sigmoid(output)\n",
    "\n",
    "\n",
    "\n",
    "#correct_prediction = tf.equal(tf.argmax(output, 1), tf.argmax(Y, 1))  \n",
    "#accuracy = tf.reduce_mean(tf.cast(correct_prediction, tf.float32)) \n",
    "#matrix2 = tf.constant([[0.], [1.]])\n",
    "#pred = tf.argmax(output, 1)\n",
    "\n",
    "init = tf.global_variables_initializer()\n",
    "\n",
    "\n"
   ]
  },
  {
   "cell_type": "code",
   "execution_count": 402,
   "metadata": {},
   "outputs": [
    {
     "data": {
      "text/plain": [
       "(71236, 209)"
      ]
     },
     "execution_count": 402,
     "metadata": {},
     "output_type": "execute_result"
    }
   ],
   "source": [
    "X_v.shape"
   ]
  },
  {
   "cell_type": "code",
   "execution_count": 403,
   "metadata": {
    "collapsed": true
   },
   "outputs": [
    {
     "name": "stdout",
     "output_type": "stream",
     "text": [
      "iters :  0 train------------------------------ cost: 0.405794 ,auc: 0.512997662178\n"
     ]
    },
    {
     "name": "stdout",
     "output_type": "stream",
     "text": [
      "iters :  0 V ------------------------------ cost: 0.542077 ,auc: 0.507587897204\n"
     ]
    },
    {
     "name": "stdout",
     "output_type": "stream",
     "text": [
      "iters :  1 train------------------------------ cost: 0.0935437 ,auc: 0.569335693417\n"
     ]
    },
    {
     "name": "stdout",
     "output_type": "stream",
     "text": [
      "iters :  1 V ------------------------------ cost: 0.0942207 ,auc: 0.561458570782\n"
     ]
    },
    {
     "name": "stdout",
     "output_type": "stream",
     "text": [
      "iters :  2 train------------------------------ cost: 0.0935569 ,auc: 0.583351483141\n"
     ]
    },
    {
     "name": "stdout",
     "output_type": "stream",
     "text": [
      "iters :  2 V ------------------------------ cost: 0.0942831 ,auc: 0.581376132789\n"
     ]
    },
    {
     "name": "stdout",
     "output_type": "stream",
     "text": [
      "iters :  3 train------------------------------ cost: 0.093672 ,auc: 0.580847782713\n"
     ]
    },
    {
     "name": "stdout",
     "output_type": "stream",
     "text": [
      "iters :  3 V ------------------------------ cost: 0.0942621 ,auc: 0.577684733036\n"
     ]
    },
    {
     "name": "stdout",
     "output_type": "stream",
     "text": [
      "iters :  4 train------------------------------ cost: 0.0935232 ,auc: 0.620434581919\n"
     ]
    },
    {
     "name": "stdout",
     "output_type": "stream",
     "text": [
      "iters :  4 V ------------------------------ cost: 0.094231 ,auc: 0.621197484774\n"
     ]
    },
    {
     "name": "stdout",
     "output_type": "stream",
     "text": [
      "iters :  5 train------------------------------ cost: 0.093413 ,auc: 0.650376110322\n"
     ]
    },
    {
     "name": "stdout",
     "output_type": "stream",
     "text": [
      "iters :  5 V ------------------------------ cost: 0.0940647 ,auc: 0.644175851185\n"
     ]
    },
    {
     "name": "stdout",
     "output_type": "stream",
     "text": [
      "iters :  6 train------------------------------ cost: 0.092351 ,auc: 0.678830590031\n"
     ]
    },
    {
     "name": "stdout",
     "output_type": "stream",
     "text": [
      "iters :  6 V ------------------------------ cost: 0.0930052 ,auc: 0.679297390132\n"
     ]
    },
    {
     "name": "stdout",
     "output_type": "stream",
     "text": [
      "iters :  7 train------------------------------ cost: 0.0904623 ,auc: 0.699585912698\n"
     ]
    },
    {
     "name": "stdout",
     "output_type": "stream",
     "text": [
      "iters :  7 V ------------------------------ cost: 0.0910836 ,auc: 0.702000484818\n"
     ]
    },
    {
     "name": "stdout",
     "output_type": "stream",
     "text": [
      "iters :  8 train------------------------------ cost: 0.0893406 ,auc: 0.714328510536\n"
     ]
    },
    {
     "name": "stdout",
     "output_type": "stream",
     "text": [
      "iters :  8 V ------------------------------ cost: 0.0898538 ,auc: 0.716340311795\n"
     ]
    },
    {
     "name": "stdout",
     "output_type": "stream",
     "text": [
      "iters :  9 train------------------------------ cost: 0.0888823 ,auc: 0.7270960437\n"
     ]
    },
    {
     "name": "stdout",
     "output_type": "stream",
     "text": [
      "iters :  9 V ------------------------------ cost: 0.0893296 ,auc: 0.730508294455\n"
     ]
    },
    {
     "name": "stdout",
     "output_type": "stream",
     "text": [
      "iters :  10 train------------------------------ cost: 0.0877731 ,auc: 0.735342680257\n"
     ]
    },
    {
     "name": "stdout",
     "output_type": "stream",
     "text": [
      "iters :  10 V ------------------------------ cost: 0.0882993 ,auc: 0.739271267601\n"
     ]
    },
    {
     "name": "stdout",
     "output_type": "stream",
     "text": [
      "iters :  11 train------------------------------ cost: 0.0873531 ,auc: 0.742823630458\n"
     ]
    },
    {
     "name": "stdout",
     "output_type": "stream",
     "text": [
      "iters :  11 V ------------------------------ cost: 0.0878128 ,auc: 0.747253335047\n"
     ]
    },
    {
     "name": "stdout",
     "output_type": "stream",
     "text": [
      "iters :  12 train------------------------------ cost: 0.0861889 ,auc: 0.754976498634\n"
     ]
    },
    {
     "name": "stdout",
     "output_type": "stream",
     "text": [
      "iters :  12 V ------------------------------ cost: 0.0862866 ,auc: 0.762625430996\n"
     ]
    },
    {
     "name": "stdout",
     "output_type": "stream",
     "text": [
      "iters :  13 train------------------------------ cost: 0.0857556 ,auc: 0.761385094758\n"
     ]
    },
    {
     "name": "stdout",
     "output_type": "stream",
     "text": [
      "iters :  13 V ------------------------------ cost: 0.0858622 ,auc: 0.770252422822\n"
     ]
    },
    {
     "name": "stdout",
     "output_type": "stream",
     "text": [
      "iters :  14 train------------------------------ cost: 0.0851112 ,auc: 0.769686834284\n"
     ]
    },
    {
     "name": "stdout",
     "output_type": "stream",
     "text": [
      "iters :  14 V ------------------------------ cost: 0.0850804 ,auc: 0.780285614994\n"
     ]
    },
    {
     "name": "stdout",
     "output_type": "stream",
     "text": [
      "iters :  15 train------------------------------ cost: 0.0856464 ,auc: 0.773009279803\n"
     ]
    },
    {
     "name": "stdout",
     "output_type": "stream",
     "text": [
      "iters :  15 V ------------------------------ cost: 0.0856335 ,auc: 0.783827152911\n"
     ]
    },
    {
     "name": "stdout",
     "output_type": "stream",
     "text": [
      "iters :  16 train------------------------------ cost: 0.085 ,auc: 0.776558720758\n"
     ]
    },
    {
     "name": "stdout",
     "output_type": "stream",
     "text": [
      "iters :  16 V ------------------------------ cost: 0.0847245 ,auc: 0.788038771269\n"
     ]
    },
    {
     "name": "stdout",
     "output_type": "stream",
     "text": [
      "iters :  17 train------------------------------ cost: 0.0842082 ,auc: 0.779926754854\n"
     ]
    },
    {
     "name": "stdout",
     "output_type": "stream",
     "text": [
      "iters :  17 V ------------------------------ cost: 0.0839222 ,auc: 0.792022718466\n"
     ]
    },
    {
     "name": "stdout",
     "output_type": "stream",
     "text": [
      "iters :  18 train------------------------------ cost: 0.0839576 ,auc: 0.782561197482\n"
     ]
    },
    {
     "name": "stdout",
     "output_type": "stream",
     "text": [
      "iters :  18 V ------------------------------ cost: 0.0836543 ,auc: 0.795640166117\n"
     ]
    },
    {
     "name": "stdout",
     "output_type": "stream",
     "text": [
      "iters :  19 train------------------------------ cost: 0.0844636 ,auc: 0.783783887775\n"
     ]
    },
    {
     "name": "stdout",
     "output_type": "stream",
     "text": [
      "iters :  19 V ------------------------------ cost: 0.0841426 ,auc: 0.798850462993\n"
     ]
    },
    {
     "name": "stdout",
     "output_type": "stream",
     "text": [
      "iters :  20 train------------------------------ cost: 0.0837273 ,auc: 0.786573610965\n"
     ]
    },
    {
     "name": "stdout",
     "output_type": "stream",
     "text": [
      "iters :  20 V ------------------------------ cost: 0.0834873 ,auc: 0.79904226356\n"
     ]
    },
    {
     "name": "stdout",
     "output_type": "stream",
     "text": [
      "iters :  21 train------------------------------ cost: 0.0834108 ,auc: 0.789297021339\n"
     ]
    },
    {
     "name": "stdout",
     "output_type": "stream",
     "text": [
      "iters :  21 V ------------------------------ cost: 0.0832144 ,auc: 0.802519415922\n"
     ]
    },
    {
     "name": "stdout",
     "output_type": "stream",
     "text": [
      "iters :  22 train------------------------------ cost: 0.0837146 ,auc: 0.789849576819\n"
     ]
    },
    {
     "name": "stdout",
     "output_type": "stream",
     "text": [
      "iters :  22 V ------------------------------ cost: 0.0833038 ,auc: 0.802814928837\n"
     ]
    },
    {
     "name": "stdout",
     "output_type": "stream",
     "text": [
      "iters :  23 train------------------------------ cost: 0.083325 ,auc: 0.789818764805\n"
     ]
    },
    {
     "name": "stdout",
     "output_type": "stream",
     "text": [
      "iters :  23 V ------------------------------ cost: 0.0829891 ,auc: 0.802595911364\n"
     ]
    },
    {
     "name": "stdout",
     "output_type": "stream",
     "text": [
      "iters :  24 train------------------------------ cost: 0.0828489 ,auc: 0.792397248467\n"
     ]
    },
    {
     "name": "stdout",
     "output_type": "stream",
     "text": [
      "iters :  24 V ------------------------------ cost: 0.082438 ,auc: 0.804690220108\n"
     ]
    },
    {
     "name": "stdout",
     "output_type": "stream",
     "text": [
      "iters :  25 train------------------------------ cost: 0.0828007 ,auc: 0.793406526214\n"
     ]
    },
    {
     "name": "stdout",
     "output_type": "stream",
     "text": [
      "iters :  25 V ------------------------------ cost: 0.0825314 ,auc: 0.807159133314\n"
     ]
    },
    {
     "name": "stdout",
     "output_type": "stream",
     "text": [
      "iters :  26 train------------------------------ cost: 0.0826296 ,auc: 0.795531677217\n"
     ]
    },
    {
     "name": "stdout",
     "output_type": "stream",
     "text": [
      "iters :  26 V ------------------------------ cost: 0.0824896 ,auc: 0.808114548033\n"
     ]
    },
    {
     "name": "stdout",
     "output_type": "stream",
     "text": [
      "iters :  27 train------------------------------ cost: 0.0825724 ,auc: 0.797168846976\n"
     ]
    },
    {
     "name": "stdout",
     "output_type": "stream",
     "text": [
      "iters :  27 V ------------------------------ cost: 0.0823782 ,auc: 0.809793458613\n"
     ]
    },
    {
     "name": "stdout",
     "output_type": "stream",
     "text": [
      "iters :  28 train------------------------------ cost: 0.0827301 ,auc: 0.797269357988\n"
     ]
    },
    {
     "name": "stdout",
     "output_type": "stream",
     "text": [
      "iters :  28 V ------------------------------ cost: 0.0824389 ,auc: 0.80969656896\n"
     ]
    },
    {
     "name": "stdout",
     "output_type": "stream",
     "text": [
      "iters :  29 train------------------------------ cost: 0.0824675 ,auc: 0.80103201914\n"
     ]
    },
    {
     "name": "stdout",
     "output_type": "stream",
     "text": [
      "iters :  29 V ------------------------------ cost: 0.0820253 ,auc: 0.814578674061\n"
     ]
    },
    {
     "name": "stdout",
     "output_type": "stream",
     "text": [
      "iters :  30 train------------------------------ cost: 0.082285 ,auc: 0.799925311145\n"
     ]
    },
    {
     "name": "stdout",
     "output_type": "stream",
     "text": [
      "iters :  30 V ------------------------------ cost: 0.0820787 ,auc: 0.81341515396\n"
     ]
    },
    {
     "name": "stdout",
     "output_type": "stream",
     "text": [
      "iters :  31 train------------------------------ cost: 0.0822153 ,auc: 0.799411711766\n"
     ]
    },
    {
     "name": "stdout",
     "output_type": "stream",
     "text": [
      "iters :  31 V ------------------------------ cost: 0.0820259 ,auc: 0.812607495698\n"
     ]
    },
    {
     "name": "stdout",
     "output_type": "stream",
     "text": [
      "iters :  32 train------------------------------ cost: 0.0821296 ,auc: 0.802436679042\n"
     ]
    },
    {
     "name": "stdout",
     "output_type": "stream",
     "text": [
      "iters :  32 V ------------------------------ cost: 0.0820164 ,auc: 0.814931422683\n"
     ]
    },
    {
     "name": "stdout",
     "output_type": "stream",
     "text": [
      "iters :  33 train------------------------------ cost: 0.0822856 ,auc: 0.802252117811\n"
     ]
    },
    {
     "name": "stdout",
     "output_type": "stream",
     "text": [
      "iters :  33 V ------------------------------ cost: 0.0821501 ,auc: 0.815143844357\n"
     ]
    },
    {
     "name": "stdout",
     "output_type": "stream",
     "text": [
      "iters :  34 train------------------------------ cost: 0.0822682 ,auc: 0.802530429387\n"
     ]
    },
    {
     "name": "stdout",
     "output_type": "stream",
     "text": [
      "iters :  34 V ------------------------------ cost: 0.0819847 ,auc: 0.816514372299\n"
     ]
    },
    {
     "name": "stdout",
     "output_type": "stream",
     "text": [
      "iters :  35 train------------------------------ cost: 0.082346 ,auc: 0.804907028765\n"
     ]
    },
    {
     "name": "stdout",
     "output_type": "stream",
     "text": [
      "iters :  35 V ------------------------------ cost: 0.0819548 ,auc: 0.820231627586\n"
     ]
    },
    {
     "name": "stdout",
     "output_type": "stream",
     "text": [
      "iters :  36 train------------------------------ cost: 0.0822695 ,auc: 0.804094129269\n"
     ]
    },
    {
     "name": "stdout",
     "output_type": "stream",
     "text": [
      "iters :  36 V ------------------------------ cost: 0.0819858 ,auc: 0.81743588461\n"
     ]
    },
    {
     "name": "stdout",
     "output_type": "stream",
     "text": [
      "iters :  37 train------------------------------ cost: 0.0821166 ,auc: 0.806753588884\n"
     ]
    },
    {
     "name": "stdout",
     "output_type": "stream",
     "text": [
      "iters :  37 V ------------------------------ cost: 0.0819619 ,auc: 0.819485990944\n"
     ]
    },
    {
     "name": "stdout",
     "output_type": "stream",
     "text": [
      "iters :  38 train------------------------------ cost: 0.0819579 ,auc: 0.803902824383\n"
     ]
    },
    {
     "name": "stdout",
     "output_type": "stream",
     "text": [
      "iters :  38 V ------------------------------ cost: 0.0818475 ,auc: 0.81705028363\n"
     ]
    },
    {
     "name": "stdout",
     "output_type": "stream",
     "text": [
      "iters :  39 train------------------------------ cost: 0.0818199 ,auc: 0.806048020025\n"
     ]
    },
    {
     "name": "stdout",
     "output_type": "stream",
     "text": [
      "iters :  39 V ------------------------------ cost: 0.081709 ,auc: 0.818873478639\n"
     ]
    },
    {
     "name": "stdout",
     "output_type": "stream",
     "text": [
      "iters :  40 train------------------------------ cost: 0.0819771 ,auc: 0.807452260849\n"
     ]
    },
    {
     "name": "stdout",
     "output_type": "stream",
     "text": [
      "iters :  40 V ------------------------------ cost: 0.0819459 ,auc: 0.820064706374\n"
     ]
    },
    {
     "name": "stdout",
     "output_type": "stream",
     "text": [
      "iters :  41 train------------------------------ cost: 0.081747 ,auc: 0.808002066149\n"
     ]
    },
    {
     "name": "stdout",
     "output_type": "stream",
     "text": [
      "iters :  41 V ------------------------------ cost: 0.0815453 ,auc: 0.821772079148\n"
     ]
    },
    {
     "name": "stdout",
     "output_type": "stream",
     "text": [
      "iters :  42 train------------------------------ cost: 0.0817613 ,auc: 0.808931147261\n"
     ]
    },
    {
     "name": "stdout",
     "output_type": "stream",
     "text": [
      "iters :  42 V ------------------------------ cost: 0.0816001 ,auc: 0.821773234732\n"
     ]
    },
    {
     "name": "stdout",
     "output_type": "stream",
     "text": [
      "iters :  43 train------------------------------ cost: 0.0814328 ,auc: 0.808671859153\n"
     ]
    },
    {
     "name": "stdout",
     "output_type": "stream",
     "text": [
      "iters :  43 V ------------------------------ cost: 0.0815429 ,auc: 0.820129350484\n"
     ]
    },
    {
     "name": "stdout",
     "output_type": "stream",
     "text": [
      "iters :  44 train------------------------------ cost: 0.0814456 ,auc: 0.8102122453\n"
     ]
    },
    {
     "name": "stdout",
     "output_type": "stream",
     "text": [
      "iters :  44 V ------------------------------ cost: 0.0814382 ,auc: 0.823200381016\n"
     ]
    },
    {
     "name": "stdout",
     "output_type": "stream",
     "text": [
      "iters :  45 train------------------------------ cost: 0.0815231 ,auc: 0.811015714526\n"
     ]
    },
    {
     "name": "stdout",
     "output_type": "stream",
     "text": [
      "iters :  45 V ------------------------------ cost: 0.081433 ,auc: 0.826002244893\n"
     ]
    },
    {
     "name": "stdout",
     "output_type": "stream",
     "text": [
      "iters :  46 train------------------------------ cost: 0.0818345 ,auc: 0.810649671881\n"
     ]
    },
    {
     "name": "stdout",
     "output_type": "stream",
     "text": [
      "iters :  46 V ------------------------------ cost: 0.0815662 ,auc: 0.825772162308\n"
     ]
    },
    {
     "name": "stdout",
     "output_type": "stream",
     "text": [
      "iters :  47 train------------------------------ cost: 0.0820335 ,auc: 0.811303834689\n"
     ]
    },
    {
     "name": "stdout",
     "output_type": "stream",
     "text": [
      "iters :  47 V ------------------------------ cost: 0.0820106 ,auc: 0.82503939539\n"
     ]
    },
    {
     "name": "stdout",
     "output_type": "stream",
     "text": [
      "iters :  48 train------------------------------ cost: 0.0818179 ,auc: 0.812801098761\n"
     ]
    },
    {
     "name": "stdout",
     "output_type": "stream",
     "text": [
      "iters :  48 V ------------------------------ cost: 0.0818674 ,auc: 0.826697895929\n"
     ]
    },
    {
     "name": "stdout",
     "output_type": "stream",
     "text": [
      "iters :  49 train------------------------------ cost: 0.0820138 ,auc: 0.813236407974\n"
     ]
    },
    {
     "name": "stdout",
     "output_type": "stream",
     "text": [
      "iters :  49 V ------------------------------ cost: 0.0822646 ,auc: 0.827775227402\n"
     ]
    },
    {
     "name": "stdout",
     "output_type": "stream",
     "text": [
      "iters :  50 train------------------------------ cost: 0.0816662 ,auc: 0.812478922182\n"
     ]
    },
    {
     "name": "stdout",
     "output_type": "stream",
     "text": [
      "iters :  50 V ------------------------------ cost: 0.0819984 ,auc: 0.827805694718\n"
     ]
    },
    {
     "name": "stdout",
     "output_type": "stream",
     "text": [
      "iters :  51 train------------------------------ cost: 0.081394 ,auc: 0.813680197176\n"
     ]
    },
    {
     "name": "stdout",
     "output_type": "stream",
     "text": [
      "iters :  51 V ------------------------------ cost: 0.0814249 ,auc: 0.827168793786\n"
     ]
    },
    {
     "name": "stdout",
     "output_type": "stream",
     "text": [
      "iters :  52 train------------------------------ cost: 0.0819832 ,auc: 0.814867028318\n"
     ]
    },
    {
     "name": "stdout",
     "output_type": "stream",
     "text": [
      "iters :  52 V ------------------------------ cost: 0.0819452 ,auc: 0.82813920999\n"
     ]
    },
    {
     "name": "stdout",
     "output_type": "stream",
     "text": [
      "iters :  53 train------------------------------ cost: 0.0810676 ,auc: 0.815553541808\n"
     ]
    },
    {
     "name": "stdout",
     "output_type": "stream",
     "text": [
      "iters :  53 V ------------------------------ cost: 0.080992 ,auc: 0.829220440899\n"
     ]
    },
    {
     "name": "stdout",
     "output_type": "stream",
     "text": [
      "iters :  54 train------------------------------ cost: 0.0814374 ,auc: 0.816152685179\n"
     ]
    },
    {
     "name": "stdout",
     "output_type": "stream",
     "text": [
      "iters :  54 V ------------------------------ cost: 0.0812374 ,auc: 0.83091869564\n"
     ]
    },
    {
     "name": "stdout",
     "output_type": "stream",
     "text": [
      "iters :  55 train------------------------------ cost: 0.0810712 ,auc: 0.815276891423\n"
     ]
    },
    {
     "name": "stdout",
     "output_type": "stream",
     "text": [
      "iters :  55 V ------------------------------ cost: 0.0812493 ,auc: 0.827761107115\n"
     ]
    },
    {
     "name": "stdout",
     "output_type": "stream",
     "text": [
      "iters :  56 train------------------------------ cost: 0.0815736 ,auc: 0.81697534222\n"
     ]
    },
    {
     "name": "stdout",
     "output_type": "stream",
     "text": [
      "iters :  56 V ------------------------------ cost: 0.0815774 ,auc: 0.830195838251\n"
     ]
    },
    {
     "name": "stdout",
     "output_type": "stream",
     "text": [
      "iters :  57 train------------------------------ cost: 0.0811909 ,auc: 0.815321222645\n"
     ]
    },
    {
     "name": "stdout",
     "output_type": "stream",
     "text": [
      "iters :  57 V ------------------------------ cost: 0.081116 ,auc: 0.830430289894\n"
     ]
    },
    {
     "name": "stdout",
     "output_type": "stream",
     "text": [
      "iters :  58 train------------------------------ cost: 0.0812774 ,auc: 0.817496416011\n"
     ]
    },
    {
     "name": "stdout",
     "output_type": "stream",
     "text": [
      "iters :  58 V ------------------------------ cost: 0.0812839 ,auc: 0.831458036786\n"
     ]
    },
    {
     "name": "stdout",
     "output_type": "stream",
     "text": [
      "iters :  59 train------------------------------ cost: 0.0809878 ,auc: 0.816275690909\n"
     ]
    },
    {
     "name": "stdout",
     "output_type": "stream",
     "text": [
      "iters :  59 V ------------------------------ cost: 0.0811405 ,auc: 0.829345776916\n"
     ]
    },
    {
     "name": "stdout",
     "output_type": "stream",
     "text": [
      "iters :  60 train------------------------------ cost: 0.0810492 ,auc: 0.816033447846\n"
     ]
    },
    {
     "name": "stdout",
     "output_type": "stream",
     "text": [
      "iters :  60 V ------------------------------ cost: 0.0811687 ,auc: 0.831026845642\n"
     ]
    },
    {
     "name": "stdout",
     "output_type": "stream",
     "text": [
      "iters :  61 train------------------------------ cost: 0.0808843 ,auc: 0.817348347806\n"
     ]
    },
    {
     "name": "stdout",
     "output_type": "stream",
     "text": [
      "iters :  61 V ------------------------------ cost: 0.080861 ,auc: 0.833735339385\n"
     ]
    },
    {
     "name": "stdout",
     "output_type": "stream",
     "text": [
      "iters :  62 train------------------------------ cost: 0.0809276 ,auc: 0.817973064887\n"
     ]
    },
    {
     "name": "stdout",
     "output_type": "stream",
     "text": [
      "iters :  62 V ------------------------------ cost: 0.0810806 ,auc: 0.832135921377\n"
     ]
    },
    {
     "name": "stdout",
     "output_type": "stream",
     "text": [
      "iters :  63 train------------------------------ cost: 0.0811822 ,auc: 0.819646496925\n"
     ]
    },
    {
     "name": "stdout",
     "output_type": "stream",
     "text": [
      "iters :  63 V ------------------------------ cost: 0.0813708 ,auc: 0.834711538786\n"
     ]
    },
    {
     "name": "stdout",
     "output_type": "stream",
     "text": [
      "iters :  64 train------------------------------ cost: 0.0809606 ,auc: 0.818210910521\n"
     ]
    },
    {
     "name": "stdout",
     "output_type": "stream",
     "text": [
      "iters :  64 V ------------------------------ cost: 0.0809646 ,auc: 0.832248693715\n"
     ]
    },
    {
     "name": "stdout",
     "output_type": "stream",
     "text": [
      "iters :  65 train------------------------------ cost: 0.0809548 ,auc: 0.817630674595\n"
     ]
    },
    {
     "name": "stdout",
     "output_type": "stream",
     "text": [
      "iters :  65 V ------------------------------ cost: 0.0809869 ,auc: 0.83236473757\n"
     ]
    },
    {
     "name": "stdout",
     "output_type": "stream",
     "text": [
      "iters :  66 train------------------------------ cost: 0.0811222 ,auc: 0.819346108172\n"
     ]
    },
    {
     "name": "stdout",
     "output_type": "stream",
     "text": [
      "iters :  66 V ------------------------------ cost: 0.0814676 ,auc: 0.835943454688\n"
     ]
    },
    {
     "name": "stdout",
     "output_type": "stream",
     "text": [
      "iters :  67 train------------------------------ cost: 0.0806712 ,auc: 0.820415811552\n"
     ]
    },
    {
     "name": "stdout",
     "output_type": "stream",
     "text": [
      "iters :  67 V ------------------------------ cost: 0.0809146 ,auc: 0.834964147346\n"
     ]
    },
    {
     "name": "stdout",
     "output_type": "stream",
     "text": [
      "iters :  68 train------------------------------ cost: 0.0808464 ,auc: 0.820448093944\n"
     ]
    },
    {
     "name": "stdout",
     "output_type": "stream",
     "text": [
      "iters :  68 V ------------------------------ cost: 0.0811261 ,auc: 0.835524626709\n"
     ]
    },
    {
     "name": "stdout",
     "output_type": "stream",
     "text": [
      "iters :  69 train------------------------------ cost: 0.0811355 ,auc: 0.821290562515\n"
     ]
    },
    {
     "name": "stdout",
     "output_type": "stream",
     "text": [
      "iters :  69 V ------------------------------ cost: 0.0814355 ,auc: 0.836111805869\n"
     ]
    },
    {
     "name": "stdout",
     "output_type": "stream",
     "text": [
      "iters :  70 train------------------------------ cost: 0.0809383 ,auc: 0.82223331076\n"
     ]
    },
    {
     "name": "stdout",
     "output_type": "stream",
     "text": [
      "iters :  70 V ------------------------------ cost: 0.0812036 ,auc: 0.836244059559\n"
     ]
    },
    {
     "name": "stdout",
     "output_type": "stream",
     "text": [
      "iters :  71 train------------------------------ cost: 0.0805537 ,auc: 0.822540918839\n"
     ]
    },
    {
     "name": "stdout",
     "output_type": "stream",
     "text": [
      "iters :  71 V ------------------------------ cost: 0.0806876 ,auc: 0.838010995039\n"
     ]
    },
    {
     "name": "stdout",
     "output_type": "stream",
     "text": [
      "iters :  72 train------------------------------ cost: 0.0806821 ,auc: 0.820757047399\n"
     ]
    },
    {
     "name": "stdout",
     "output_type": "stream",
     "text": [
      "iters :  72 V ------------------------------ cost: 0.0804985 ,auc: 0.837798145958\n"
     ]
    },
    {
     "name": "stdout",
     "output_type": "stream",
     "text": [
      "iters :  73 train------------------------------ cost: 0.0805897 ,auc: 0.822080015475\n"
     ]
    },
    {
     "name": "stdout",
     "output_type": "stream",
     "text": [
      "iters :  73 V ------------------------------ cost: 0.0807754 ,auc: 0.836952411466\n"
     ]
    },
    {
     "name": "stdout",
     "output_type": "stream",
     "text": [
      "iters :  74 train------------------------------ cost: 0.0812227 ,auc: 0.820548360149\n"
     ]
    },
    {
     "name": "stdout",
     "output_type": "stream",
     "text": [
      "iters :  74 V ------------------------------ cost: 0.0811395 ,auc: 0.835448558675\n"
     ]
    },
    {
     "name": "stdout",
     "output_type": "stream",
     "text": [
      "iters :  75 train------------------------------ cost: 0.0808855 ,auc: 0.823408220201\n"
     ]
    },
    {
     "name": "stdout",
     "output_type": "stream",
     "text": [
      "iters :  75 V ------------------------------ cost: 0.0809964 ,auc: 0.837442252458\n"
     ]
    },
    {
     "name": "stdout",
     "output_type": "stream",
     "text": [
      "iters :  76 train------------------------------ cost: 0.0806064 ,auc: 0.821995097443\n"
     ]
    },
    {
     "name": "stdout",
     "output_type": "stream",
     "text": [
      "iters :  76 V ------------------------------ cost: 0.0806576 ,auc: 0.836970246508\n"
     ]
    },
    {
     "name": "stdout",
     "output_type": "stream",
     "text": [
      "iters :  77 train------------------------------ cost: 0.0803249 ,auc: 0.820656858936\n"
     ]
    },
    {
     "name": "stdout",
     "output_type": "stream",
     "text": [
      "iters :  77 V ------------------------------ cost: 0.0804907 ,auc: 0.834892511689\n"
     ]
    },
    {
     "name": "stdout",
     "output_type": "stream",
     "text": [
      "iters :  78 train------------------------------ cost: 0.0807333 ,auc: 0.822506334764\n"
     ]
    },
    {
     "name": "stdout",
     "output_type": "stream",
     "text": [
      "iters :  78 V ------------------------------ cost: 0.0808973 ,auc: 0.836963112491\n"
     ]
    },
    {
     "name": "stdout",
     "output_type": "stream",
     "text": [
      "iters :  79 train------------------------------ cost: 0.0806095 ,auc: 0.822319944923\n"
     ]
    },
    {
     "name": "stdout",
     "output_type": "stream",
     "text": [
      "iters :  79 V ------------------------------ cost: 0.0808762 ,auc: 0.83672242386\n"
     ]
    },
    {
     "name": "stdout",
     "output_type": "stream",
     "text": [
      "iters :  80 train------------------------------ cost: 0.0809705 ,auc: 0.825391126972\n"
     ]
    },
    {
     "name": "stdout",
     "output_type": "stream",
     "text": [
      "iters :  80 V ------------------------------ cost: 0.081263 ,auc: 0.839402603156\n"
     ]
    },
    {
     "name": "stdout",
     "output_type": "stream",
     "text": [
      "iters :  81 train------------------------------ cost: 0.0803417 ,auc: 0.825387246449\n"
     ]
    },
    {
     "name": "stdout",
     "output_type": "stream",
     "text": [
      "iters :  81 V ------------------------------ cost: 0.0805866 ,auc: 0.839824291073\n"
     ]
    },
    {
     "name": "stdout",
     "output_type": "stream",
     "text": [
      "iters :  82 train------------------------------ cost: 0.0810048 ,auc: 0.826172450022\n"
     ]
    },
    {
     "name": "stdout",
     "output_type": "stream",
     "text": [
      "iters :  82 V ------------------------------ cost: 0.0813076 ,auc: 0.841854741926\n"
     ]
    },
    {
     "name": "stdout",
     "output_type": "stream",
     "text": [
      "iters :  83 train------------------------------ cost: 0.0808697 ,auc: 0.82680764312\n"
     ]
    },
    {
     "name": "stdout",
     "output_type": "stream",
     "text": [
      "iters :  83 V ------------------------------ cost: 0.0811704 ,auc: 0.841189917017\n"
     ]
    },
    {
     "name": "stdout",
     "output_type": "stream",
     "text": [
      "iters :  84 train------------------------------ cost: 0.0802603 ,auc: 0.827174564092\n"
     ]
    },
    {
     "name": "stdout",
     "output_type": "stream",
     "text": [
      "iters :  84 V ------------------------------ cost: 0.0804618 ,auc: 0.841436119737\n"
     ]
    },
    {
     "name": "stdout",
     "output_type": "stream",
     "text": [
      "iters :  85 train------------------------------ cost: 0.0801921 ,auc: 0.82396192859\n"
     ]
    },
    {
     "name": "stdout",
     "output_type": "stream",
     "text": [
      "iters :  85 V ------------------------------ cost: 0.0805224 ,auc: 0.837739501387\n"
     ]
    },
    {
     "name": "stdout",
     "output_type": "stream",
     "text": [
      "iters :  86 train------------------------------ cost: 0.0803586 ,auc: 0.8255826144\n"
     ]
    },
    {
     "name": "stdout",
     "output_type": "stream",
     "text": [
      "iters :  86 V ------------------------------ cost: 0.0807256 ,auc: 0.841293413023\n"
     ]
    },
    {
     "name": "stdout",
     "output_type": "stream",
     "text": [
      "iters :  87 train------------------------------ cost: 0.0808174 ,auc: 0.825877686397\n"
     ]
    },
    {
     "name": "stdout",
     "output_type": "stream",
     "text": [
      "iters :  87 V ------------------------------ cost: 0.0813374 ,auc: 0.839802498552\n"
     ]
    },
    {
     "name": "stdout",
     "output_type": "stream",
     "text": [
      "iters :  88 train------------------------------ cost: 0.0805129 ,auc: 0.826633133036\n"
     ]
    },
    {
     "name": "stdout",
     "output_type": "stream",
     "text": [
      "iters :  88 V ------------------------------ cost: 0.0809014 ,auc: 0.841461637565\n"
     ]
    },
    {
     "name": "stdout",
     "output_type": "stream",
     "text": [
      "iters :  89 train------------------------------ cost: 0.0802805 ,auc: 0.825673052051\n"
     ]
    },
    {
     "name": "stdout",
     "output_type": "stream",
     "text": [
      "iters :  89 V ------------------------------ cost: 0.0808724 ,auc: 0.841026958562\n"
     ]
    },
    {
     "name": "stdout",
     "output_type": "stream",
     "text": [
      "iters :  90 train------------------------------ cost: 0.080422 ,auc: 0.827388346802\n"
     ]
    },
    {
     "name": "stdout",
     "output_type": "stream",
     "text": [
      "iters :  90 V ------------------------------ cost: 0.0811688 ,auc: 0.84330247238\n"
     ]
    },
    {
     "name": "stdout",
     "output_type": "stream",
     "text": [
      "iters :  91 train------------------------------ cost: 0.0808619 ,auc: 0.82684401516\n"
     ]
    },
    {
     "name": "stdout",
     "output_type": "stream",
     "text": [
      "iters :  91 V ------------------------------ cost: 0.0814487 ,auc: 0.842828244964\n"
     ]
    },
    {
     "name": "stdout",
     "output_type": "stream",
     "text": [
      "iters :  92 train------------------------------ cost: 0.0805399 ,auc: 0.827488019893\n"
     ]
    },
    {
     "name": "stdout",
     "output_type": "stream",
     "text": [
      "iters :  92 V ------------------------------ cost: 0.0809836 ,auc: 0.842843251727\n"
     ]
    },
    {
     "name": "stdout",
     "output_type": "stream",
     "text": [
      "iters :  93 train------------------------------ cost: 0.080811 ,auc: 0.826410405891\n"
     ]
    },
    {
     "name": "stdout",
     "output_type": "stream",
     "text": [
      "iters :  93 V ------------------------------ cost: 0.0811595 ,auc: 0.841233665635\n"
     ]
    },
    {
     "name": "stdout",
     "output_type": "stream",
     "text": [
      "iters :  94 train------------------------------ cost: 0.0804996 ,auc: 0.825168466227\n"
     ]
    },
    {
     "name": "stdout",
     "output_type": "stream",
     "text": [
      "iters :  94 V ------------------------------ cost: 0.0811359 ,auc: 0.840352820385\n"
     ]
    },
    {
     "name": "stdout",
     "output_type": "stream",
     "text": [
      "iters :  95 train------------------------------ cost: 0.0804191 ,auc: 0.827534141209\n"
     ]
    },
    {
     "name": "stdout",
     "output_type": "stream",
     "text": [
      "iters :  95 V ------------------------------ cost: 0.0811176 ,auc: 0.84230537221\n"
     ]
    },
    {
     "name": "stdout",
     "output_type": "stream",
     "text": [
      "iters :  96 train------------------------------ cost: 0.0808857 ,auc: 0.827007165701\n"
     ]
    },
    {
     "name": "stdout",
     "output_type": "stream",
     "text": [
      "iters :  96 V ------------------------------ cost: 0.0815101 ,auc: 0.842712728774\n"
     ]
    },
    {
     "name": "stdout",
     "output_type": "stream",
     "text": [
      "iters :  97 train------------------------------ cost: 0.0802357 ,auc: 0.828240160338\n"
     ]
    },
    {
     "name": "stdout",
     "output_type": "stream",
     "text": [
      "iters :  97 V ------------------------------ cost: 0.0810646 ,auc: 0.842770022525\n"
     ]
    },
    {
     "name": "stdout",
     "output_type": "stream",
     "text": [
      "iters :  98 train------------------------------ cost: 0.0806361 ,auc: 0.829175853721\n"
     ]
    },
    {
     "name": "stdout",
     "output_type": "stream",
     "text": [
      "iters :  98 V ------------------------------ cost: 0.0815185 ,auc: 0.844571694122\n"
     ]
    },
    {
     "name": "stdout",
     "output_type": "stream",
     "text": [
      "iters :  99 train------------------------------ cost: 0.0802609 ,auc: 0.82854869814\n"
     ]
    },
    {
     "name": "stdout",
     "output_type": "stream",
     "text": [
      "iters :  99 V ------------------------------ cost: 0.0810769 ,auc: 0.84358667218\n"
     ]
    }
   ],
   "source": [
    "from sklearn.metrics import roc_auc_score\n",
    "\n",
    "with tf.Session() as sess:\n",
    "    init.run()\n",
    "    \n",
    "    for i in range(num_iters):\n",
    "        predicts,cost_ = sess.run([predict_op,cost], feed_dict={X:X_train, Y: y_train,keep_prob:1.0})\n",
    "        print ('iters : ',i, 'train------------------------------ cost:', \n",
    "               cost_,',auc:',roc_auc_score(y_train ,predicts))\n",
    "        predicts,cost_ = sess.run([predict_op,cost], feed_dict={X:X_v, Y: y_v,keep_prob:1.0})\n",
    "        print ('iters : ',i, 'V ------------------------------ cost:', \n",
    "               cost_,',auc:',roc_auc_score(y_v ,predicts))\n",
    "        step = 0\n",
    "        for start, end in zip(range(0, all_size, batch_size), range(batch_size, all_size, batch_size)):\n",
    "            step = step + 1\n",
    "            #np.random.seed(i * batch_size + step) # 每次调用 都有不同的 随机种子\n",
    "            #indices = np.random.randint(all_size,size=batch_size) # 去 0 ~ m-1 之间取 batch_size 整数\n",
    "            sess.run(train_op, feed_dict={X: X_train_arr[start: end],Y: y_train[start: end],keep_prob:0.5})\n",
    "          \n",
    "            #if (step % 500) == 0:\n",
    "            #    predicts,cost_ = sess.run([predict_op,cost], \n",
    "            #                              feed_dict={X: X_train_arr[start: end],Y: y_train[start: end],keep_prob:1.0})\n",
    "            #    print ('iters : ',i,'step:',step, 'cost_:', cost_,'auc:',roc_auc_score(y_train[start: end] ,predicts))\n",
    "    \n",
    "    predicts = sess.run(predict_op, feed_dict={X:X_test,keep_prob:1.0})\n",
    "    pd.DataFrame(predicts).to_csv(\"./tianchi_ad/result.csv\",index=False,float_format = '%.4f')\n",
    "            \n",
    "            \n",
    "     \n",
    "\n",
    "     \n",
    "\n",
    "\n"
   ]
  },
  {
   "cell_type": "code",
   "execution_count": 389,
   "metadata": {},
   "outputs": [
    {
     "data": {
      "text/plain": [
       "(406902, 209)"
      ]
     },
     "execution_count": 389,
     "metadata": {},
     "output_type": "execute_result"
    }
   ],
   "source": [
    "X_train.shape"
   ]
  },
  {
   "cell_type": "code",
   "execution_count": 390,
   "metadata": {},
   "outputs": [
    {
     "data": {
      "text/plain": [
       "(7665, 1)"
      ]
     },
     "execution_count": 390,
     "metadata": {},
     "output_type": "execute_result"
    }
   ],
   "source": [
    "y_train[y_train[0] == 1].shape"
   ]
  },
  {
   "cell_type": "code",
   "execution_count": 391,
   "metadata": {},
   "outputs": [
    {
     "data": {
      "text/plain": [
       "(18371, 1)"
      ]
     },
     "execution_count": 391,
     "metadata": {},
     "output_type": "execute_result"
    }
   ],
   "source": [
    "pd_predicts.shape"
   ]
  },
  {
   "cell_type": "code",
   "execution_count": 404,
   "metadata": {},
   "outputs": [],
   "source": [
    "pd_predicts = pd.DataFrame(predicts) "
   ]
  },
  {
   "cell_type": "code",
   "execution_count": 405,
   "metadata": {},
   "outputs": [
    {
     "data": {
      "text/html": [
       "<div>\n",
       "<style>\n",
       "    .dataframe thead tr:only-child th {\n",
       "        text-align: right;\n",
       "    }\n",
       "\n",
       "    .dataframe thead th {\n",
       "        text-align: left;\n",
       "    }\n",
       "\n",
       "    .dataframe tbody tr th {\n",
       "        vertical-align: top;\n",
       "    }\n",
       "</style>\n",
       "<table border=\"1\" class=\"dataframe\">\n",
       "  <thead>\n",
       "    <tr style=\"text-align: right;\">\n",
       "      <th></th>\n",
       "      <th>0</th>\n",
       "    </tr>\n",
       "  </thead>\n",
       "  <tbody>\n",
       "    <tr>\n",
       "      <th>10615</th>\n",
       "      <td>0.960380</td>\n",
       "    </tr>\n",
       "    <tr>\n",
       "      <th>11529</th>\n",
       "      <td>0.877262</td>\n",
       "    </tr>\n",
       "    <tr>\n",
       "      <th>13542</th>\n",
       "      <td>0.882162</td>\n",
       "    </tr>\n",
       "  </tbody>\n",
       "</table>\n",
       "</div>"
      ],
      "text/plain": [
       "<div>\n",
       "<style>\n",
       "    .dataframe thead tr:only-child th {\n",
       "        text-align: right;\n",
       "    }\n",
       "\n",
       "    .dataframe thead th {\n",
       "        text-align: left;\n",
       "    }\n",
       "\n",
       "    .dataframe tbody tr th {\n",
       "        vertical-align: top;\n",
       "    }\n",
       "</style>\n",
       "<table border=\"1\" class=\"dataframe\">\n",
       "  <thead>\n",
       "    <tr style=\"text-align: right;\">\n",
       "      <th></th>\n",
       "      <th>0</th>\n",
       "    </tr>\n",
       "  </thead>\n",
       "  <tbody>\n",
       "    <tr>\n",
       "      <th>10615</th>\n",
       "      <td>0.960380</td>\n",
       "    </tr>\n",
       "    <tr>\n",
       "      <th>11529</th>\n",
       "      <td>0.877262</td>\n",
       "    </tr>\n",
       "    <tr>\n",
       "      <th>13542</th>\n",
       "      <td>0.882162</td>\n",
       "    </tr>\n",
       "  </tbody>\n",
       "</table>\n",
       "</div>"
      ]
     },
     "execution_count": 405,
     "metadata": {},
     "output_type": "execute_result"
    }
   ],
   "source": [
    "pd_predicts[pd_predicts[0] > 0.5]"
   ]
  },
  {
   "cell_type": "code",
   "execution_count": 394,
   "metadata": {},
   "outputs": [
    {
     "data": {
      "text/plain": [
       "(18368, 1)"
      ]
     },
     "execution_count": 394,
     "metadata": {},
     "output_type": "execute_result"
    }
   ],
   "source": [
    "pd_predicts[pd_predicts[0] < 0.5].shape"
   ]
  },
  {
   "cell_type": "code",
   "execution_count": 381,
   "metadata": {},
   "outputs": [
    {
     "data": {
      "text/html": [
       "<div>\n",
       "<style>\n",
       "    .dataframe thead tr:only-child th {\n",
       "        text-align: right;\n",
       "    }\n",
       "\n",
       "    .dataframe thead th {\n",
       "        text-align: left;\n",
       "    }\n",
       "\n",
       "    .dataframe tbody tr th {\n",
       "        vertical-align: top;\n",
       "    }\n",
       "</style>\n",
       "<table border=\"1\" class=\"dataframe\">\n",
       "  <thead>\n",
       "    <tr style=\"text-align: right;\">\n",
       "      <th></th>\n",
       "      <th>0</th>\n",
       "    </tr>\n",
       "  </thead>\n",
       "  <tbody>\n",
       "    <tr>\n",
       "      <th>0</th>\n",
       "      <td>7.194152e-05</td>\n",
       "    </tr>\n",
       "    <tr>\n",
       "      <th>1</th>\n",
       "      <td>2.878600e-02</td>\n",
       "    </tr>\n",
       "    <tr>\n",
       "      <th>2</th>\n",
       "      <td>3.484671e-02</td>\n",
       "    </tr>\n",
       "    <tr>\n",
       "      <th>3</th>\n",
       "      <td>1.988288e-02</td>\n",
       "    </tr>\n",
       "    <tr>\n",
       "      <th>4</th>\n",
       "      <td>8.607968e-03</td>\n",
       "    </tr>\n",
       "    <tr>\n",
       "      <th>5</th>\n",
       "      <td>2.335810e-02</td>\n",
       "    </tr>\n",
       "    <tr>\n",
       "      <th>6</th>\n",
       "      <td>4.765747e-02</td>\n",
       "    </tr>\n",
       "    <tr>\n",
       "      <th>7</th>\n",
       "      <td>3.516578e-02</td>\n",
       "    </tr>\n",
       "    <tr>\n",
       "      <th>8</th>\n",
       "      <td>4.798444e-02</td>\n",
       "    </tr>\n",
       "    <tr>\n",
       "      <th>9</th>\n",
       "      <td>4.810450e-02</td>\n",
       "    </tr>\n",
       "    <tr>\n",
       "      <th>10</th>\n",
       "      <td>4.782454e-02</td>\n",
       "    </tr>\n",
       "    <tr>\n",
       "      <th>11</th>\n",
       "      <td>5.448268e-02</td>\n",
       "    </tr>\n",
       "    <tr>\n",
       "      <th>12</th>\n",
       "      <td>4.273599e-02</td>\n",
       "    </tr>\n",
       "    <tr>\n",
       "      <th>13</th>\n",
       "      <td>1.683000e-02</td>\n",
       "    </tr>\n",
       "    <tr>\n",
       "      <th>14</th>\n",
       "      <td>2.027243e-02</td>\n",
       "    </tr>\n",
       "    <tr>\n",
       "      <th>15</th>\n",
       "      <td>2.149804e-02</td>\n",
       "    </tr>\n",
       "    <tr>\n",
       "      <th>16</th>\n",
       "      <td>3.352321e-02</td>\n",
       "    </tr>\n",
       "    <tr>\n",
       "      <th>17</th>\n",
       "      <td>3.204536e-02</td>\n",
       "    </tr>\n",
       "    <tr>\n",
       "      <th>18</th>\n",
       "      <td>3.166945e-02</td>\n",
       "    </tr>\n",
       "    <tr>\n",
       "      <th>19</th>\n",
       "      <td>3.086390e-02</td>\n",
       "    </tr>\n",
       "    <tr>\n",
       "      <th>20</th>\n",
       "      <td>4.137039e-02</td>\n",
       "    </tr>\n",
       "    <tr>\n",
       "      <th>21</th>\n",
       "      <td>1.605393e-02</td>\n",
       "    </tr>\n",
       "    <tr>\n",
       "      <th>22</th>\n",
       "      <td>1.716239e-02</td>\n",
       "    </tr>\n",
       "    <tr>\n",
       "      <th>23</th>\n",
       "      <td>1.804618e-02</td>\n",
       "    </tr>\n",
       "    <tr>\n",
       "      <th>24</th>\n",
       "      <td>2.008765e-02</td>\n",
       "    </tr>\n",
       "    <tr>\n",
       "      <th>25</th>\n",
       "      <td>2.991394e-04</td>\n",
       "    </tr>\n",
       "    <tr>\n",
       "      <th>26</th>\n",
       "      <td>1.357175e-02</td>\n",
       "    </tr>\n",
       "    <tr>\n",
       "      <th>27</th>\n",
       "      <td>5.566495e-03</td>\n",
       "    </tr>\n",
       "    <tr>\n",
       "      <th>28</th>\n",
       "      <td>1.655786e-03</td>\n",
       "    </tr>\n",
       "    <tr>\n",
       "      <th>29</th>\n",
       "      <td>1.853371e-02</td>\n",
       "    </tr>\n",
       "    <tr>\n",
       "      <th>...</th>\n",
       "      <td>...</td>\n",
       "    </tr>\n",
       "    <tr>\n",
       "      <th>18341</th>\n",
       "      <td>1.343727e-04</td>\n",
       "    </tr>\n",
       "    <tr>\n",
       "      <th>18342</th>\n",
       "      <td>1.962505e-02</td>\n",
       "    </tr>\n",
       "    <tr>\n",
       "      <th>18343</th>\n",
       "      <td>1.197606e-02</td>\n",
       "    </tr>\n",
       "    <tr>\n",
       "      <th>18344</th>\n",
       "      <td>1.727248e-03</td>\n",
       "    </tr>\n",
       "    <tr>\n",
       "      <th>18345</th>\n",
       "      <td>9.998675e-05</td>\n",
       "    </tr>\n",
       "    <tr>\n",
       "      <th>18346</th>\n",
       "      <td>1.879502e-03</td>\n",
       "    </tr>\n",
       "    <tr>\n",
       "      <th>18347</th>\n",
       "      <td>1.133969e-03</td>\n",
       "    </tr>\n",
       "    <tr>\n",
       "      <th>18348</th>\n",
       "      <td>1.976151e-05</td>\n",
       "    </tr>\n",
       "    <tr>\n",
       "      <th>18349</th>\n",
       "      <td>1.998865e-04</td>\n",
       "    </tr>\n",
       "    <tr>\n",
       "      <th>18350</th>\n",
       "      <td>1.031971e-02</td>\n",
       "    </tr>\n",
       "    <tr>\n",
       "      <th>18351</th>\n",
       "      <td>8.994335e-10</td>\n",
       "    </tr>\n",
       "    <tr>\n",
       "      <th>18352</th>\n",
       "      <td>5.219539e-04</td>\n",
       "    </tr>\n",
       "    <tr>\n",
       "      <th>18353</th>\n",
       "      <td>7.389627e-06</td>\n",
       "    </tr>\n",
       "    <tr>\n",
       "      <th>18354</th>\n",
       "      <td>2.633011e-02</td>\n",
       "    </tr>\n",
       "    <tr>\n",
       "      <th>18355</th>\n",
       "      <td>1.463207e-03</td>\n",
       "    </tr>\n",
       "    <tr>\n",
       "      <th>18356</th>\n",
       "      <td>2.556759e-04</td>\n",
       "    </tr>\n",
       "    <tr>\n",
       "      <th>18357</th>\n",
       "      <td>2.327142e-02</td>\n",
       "    </tr>\n",
       "    <tr>\n",
       "      <th>18358</th>\n",
       "      <td>1.982675e-02</td>\n",
       "    </tr>\n",
       "    <tr>\n",
       "      <th>18359</th>\n",
       "      <td>4.625987e-02</td>\n",
       "    </tr>\n",
       "    <tr>\n",
       "      <th>18360</th>\n",
       "      <td>3.830079e-02</td>\n",
       "    </tr>\n",
       "    <tr>\n",
       "      <th>18361</th>\n",
       "      <td>2.732162e-02</td>\n",
       "    </tr>\n",
       "    <tr>\n",
       "      <th>18362</th>\n",
       "      <td>4.679460e-02</td>\n",
       "    </tr>\n",
       "    <tr>\n",
       "      <th>18363</th>\n",
       "      <td>3.302186e-02</td>\n",
       "    </tr>\n",
       "    <tr>\n",
       "      <th>18364</th>\n",
       "      <td>8.281128e-03</td>\n",
       "    </tr>\n",
       "    <tr>\n",
       "      <th>18365</th>\n",
       "      <td>7.998699e-03</td>\n",
       "    </tr>\n",
       "    <tr>\n",
       "      <th>18366</th>\n",
       "      <td>1.922929e-02</td>\n",
       "    </tr>\n",
       "    <tr>\n",
       "      <th>18367</th>\n",
       "      <td>2.201173e-02</td>\n",
       "    </tr>\n",
       "    <tr>\n",
       "      <th>18368</th>\n",
       "      <td>1.427752e-06</td>\n",
       "    </tr>\n",
       "    <tr>\n",
       "      <th>18369</th>\n",
       "      <td>3.795492e-04</td>\n",
       "    </tr>\n",
       "    <tr>\n",
       "      <th>18370</th>\n",
       "      <td>1.526578e-04</td>\n",
       "    </tr>\n",
       "  </tbody>\n",
       "</table>\n",
       "<p>18371 rows × 1 columns</p>\n",
       "</div>"
      ],
      "text/plain": [
       "<div>\n",
       "<style>\n",
       "    .dataframe thead tr:only-child th {\n",
       "        text-align: right;\n",
       "    }\n",
       "\n",
       "    .dataframe thead th {\n",
       "        text-align: left;\n",
       "    }\n",
       "\n",
       "    .dataframe tbody tr th {\n",
       "        vertical-align: top;\n",
       "    }\n",
       "</style>\n",
       "<table border=\"1\" class=\"dataframe\">\n",
       "  <thead>\n",
       "    <tr style=\"text-align: right;\">\n",
       "      <th></th>\n",
       "      <th>0</th>\n",
       "    </tr>\n",
       "  </thead>\n",
       "  <tbody>\n",
       "    <tr>\n",
       "      <th>0</th>\n",
       "      <td>7.194152e-05</td>\n",
       "    </tr>\n",
       "    <tr>\n",
       "      <th>1</th>\n",
       "      <td>2.878600e-02</td>\n",
       "    </tr>\n",
       "    <tr>\n",
       "      <th>2</th>\n",
       "      <td>3.484671e-02</td>\n",
       "    </tr>\n",
       "    <tr>\n",
       "      <th>3</th>\n",
       "      <td>1.988288e-02</td>\n",
       "    </tr>\n",
       "    <tr>\n",
       "      <th>4</th>\n",
       "      <td>8.607968e-03</td>\n",
       "    </tr>\n",
       "    <tr>\n",
       "      <th>5</th>\n",
       "      <td>2.335810e-02</td>\n",
       "    </tr>\n",
       "    <tr>\n",
       "      <th>6</th>\n",
       "      <td>4.765747e-02</td>\n",
       "    </tr>\n",
       "    <tr>\n",
       "      <th>7</th>\n",
       "      <td>3.516578e-02</td>\n",
       "    </tr>\n",
       "    <tr>\n",
       "      <th>8</th>\n",
       "      <td>4.798444e-02</td>\n",
       "    </tr>\n",
       "    <tr>\n",
       "      <th>9</th>\n",
       "      <td>4.810450e-02</td>\n",
       "    </tr>\n",
       "    <tr>\n",
       "      <th>10</th>\n",
       "      <td>4.782454e-02</td>\n",
       "    </tr>\n",
       "    <tr>\n",
       "      <th>11</th>\n",
       "      <td>5.448268e-02</td>\n",
       "    </tr>\n",
       "    <tr>\n",
       "      <th>12</th>\n",
       "      <td>4.273599e-02</td>\n",
       "    </tr>\n",
       "    <tr>\n",
       "      <th>13</th>\n",
       "      <td>1.683000e-02</td>\n",
       "    </tr>\n",
       "    <tr>\n",
       "      <th>14</th>\n",
       "      <td>2.027243e-02</td>\n",
       "    </tr>\n",
       "    <tr>\n",
       "      <th>15</th>\n",
       "      <td>2.149804e-02</td>\n",
       "    </tr>\n",
       "    <tr>\n",
       "      <th>16</th>\n",
       "      <td>3.352321e-02</td>\n",
       "    </tr>\n",
       "    <tr>\n",
       "      <th>17</th>\n",
       "      <td>3.204536e-02</td>\n",
       "    </tr>\n",
       "    <tr>\n",
       "      <th>18</th>\n",
       "      <td>3.166945e-02</td>\n",
       "    </tr>\n",
       "    <tr>\n",
       "      <th>19</th>\n",
       "      <td>3.086390e-02</td>\n",
       "    </tr>\n",
       "    <tr>\n",
       "      <th>20</th>\n",
       "      <td>4.137039e-02</td>\n",
       "    </tr>\n",
       "    <tr>\n",
       "      <th>21</th>\n",
       "      <td>1.605393e-02</td>\n",
       "    </tr>\n",
       "    <tr>\n",
       "      <th>22</th>\n",
       "      <td>1.716239e-02</td>\n",
       "    </tr>\n",
       "    <tr>\n",
       "      <th>23</th>\n",
       "      <td>1.804618e-02</td>\n",
       "    </tr>\n",
       "    <tr>\n",
       "      <th>24</th>\n",
       "      <td>2.008765e-02</td>\n",
       "    </tr>\n",
       "    <tr>\n",
       "      <th>25</th>\n",
       "      <td>2.991394e-04</td>\n",
       "    </tr>\n",
       "    <tr>\n",
       "      <th>26</th>\n",
       "      <td>1.357175e-02</td>\n",
       "    </tr>\n",
       "    <tr>\n",
       "      <th>27</th>\n",
       "      <td>5.566495e-03</td>\n",
       "    </tr>\n",
       "    <tr>\n",
       "      <th>28</th>\n",
       "      <td>1.655786e-03</td>\n",
       "    </tr>\n",
       "    <tr>\n",
       "      <th>29</th>\n",
       "      <td>1.853371e-02</td>\n",
       "    </tr>\n",
       "    <tr>\n",
       "      <th>...</th>\n",
       "      <td>...</td>\n",
       "    </tr>\n",
       "    <tr>\n",
       "      <th>18341</th>\n",
       "      <td>1.343727e-04</td>\n",
       "    </tr>\n",
       "    <tr>\n",
       "      <th>18342</th>\n",
       "      <td>1.962505e-02</td>\n",
       "    </tr>\n",
       "    <tr>\n",
       "      <th>18343</th>\n",
       "      <td>1.197606e-02</td>\n",
       "    </tr>\n",
       "    <tr>\n",
       "      <th>18344</th>\n",
       "      <td>1.727248e-03</td>\n",
       "    </tr>\n",
       "    <tr>\n",
       "      <th>18345</th>\n",
       "      <td>9.998675e-05</td>\n",
       "    </tr>\n",
       "    <tr>\n",
       "      <th>18346</th>\n",
       "      <td>1.879502e-03</td>\n",
       "    </tr>\n",
       "    <tr>\n",
       "      <th>18347</th>\n",
       "      <td>1.133969e-03</td>\n",
       "    </tr>\n",
       "    <tr>\n",
       "      <th>18348</th>\n",
       "      <td>1.976151e-05</td>\n",
       "    </tr>\n",
       "    <tr>\n",
       "      <th>18349</th>\n",
       "      <td>1.998865e-04</td>\n",
       "    </tr>\n",
       "    <tr>\n",
       "      <th>18350</th>\n",
       "      <td>1.031971e-02</td>\n",
       "    </tr>\n",
       "    <tr>\n",
       "      <th>18351</th>\n",
       "      <td>8.994335e-10</td>\n",
       "    </tr>\n",
       "    <tr>\n",
       "      <th>18352</th>\n",
       "      <td>5.219539e-04</td>\n",
       "    </tr>\n",
       "    <tr>\n",
       "      <th>18353</th>\n",
       "      <td>7.389627e-06</td>\n",
       "    </tr>\n",
       "    <tr>\n",
       "      <th>18354</th>\n",
       "      <td>2.633011e-02</td>\n",
       "    </tr>\n",
       "    <tr>\n",
       "      <th>18355</th>\n",
       "      <td>1.463207e-03</td>\n",
       "    </tr>\n",
       "    <tr>\n",
       "      <th>18356</th>\n",
       "      <td>2.556759e-04</td>\n",
       "    </tr>\n",
       "    <tr>\n",
       "      <th>18357</th>\n",
       "      <td>2.327142e-02</td>\n",
       "    </tr>\n",
       "    <tr>\n",
       "      <th>18358</th>\n",
       "      <td>1.982675e-02</td>\n",
       "    </tr>\n",
       "    <tr>\n",
       "      <th>18359</th>\n",
       "      <td>4.625987e-02</td>\n",
       "    </tr>\n",
       "    <tr>\n",
       "      <th>18360</th>\n",
       "      <td>3.830079e-02</td>\n",
       "    </tr>\n",
       "    <tr>\n",
       "      <th>18361</th>\n",
       "      <td>2.732162e-02</td>\n",
       "    </tr>\n",
       "    <tr>\n",
       "      <th>18362</th>\n",
       "      <td>4.679460e-02</td>\n",
       "    </tr>\n",
       "    <tr>\n",
       "      <th>18363</th>\n",
       "      <td>3.302186e-02</td>\n",
       "    </tr>\n",
       "    <tr>\n",
       "      <th>18364</th>\n",
       "      <td>8.281128e-03</td>\n",
       "    </tr>\n",
       "    <tr>\n",
       "      <th>18365</th>\n",
       "      <td>7.998699e-03</td>\n",
       "    </tr>\n",
       "    <tr>\n",
       "      <th>18366</th>\n",
       "      <td>1.922929e-02</td>\n",
       "    </tr>\n",
       "    <tr>\n",
       "      <th>18367</th>\n",
       "      <td>2.201173e-02</td>\n",
       "    </tr>\n",
       "    <tr>\n",
       "      <th>18368</th>\n",
       "      <td>1.427752e-06</td>\n",
       "    </tr>\n",
       "    <tr>\n",
       "      <th>18369</th>\n",
       "      <td>3.795492e-04</td>\n",
       "    </tr>\n",
       "    <tr>\n",
       "      <th>18370</th>\n",
       "      <td>1.526578e-04</td>\n",
       "    </tr>\n",
       "  </tbody>\n",
       "</table>\n",
       "<p>18371 rows × 1 columns</p>\n",
       "</div>"
      ]
     },
     "execution_count": 381,
     "metadata": {},
     "output_type": "execute_result"
    }
   ],
   "source": [
    "pd_predicts"
   ]
  },
  {
   "cell_type": "code",
   "execution_count": 412,
   "metadata": {},
   "outputs": [],
   "source": [
    "re = train_set['instance_id']"
   ]
  },
  {
   "cell_type": "code",
   "execution_count": 415,
   "metadata": {},
   "outputs": [],
   "source": [
    "pd_p = pd_predicts"
   ]
  },
  {
   "cell_type": "code",
   "execution_count": 417,
   "metadata": {},
   "outputs": [],
   "source": [
    "pd_p[2] = re"
   ]
  },
  {
   "cell_type": "code",
   "execution_count": 427,
   "metadata": {},
   "outputs": [],
   "source": [
    "pd_p[[2,0]].to_csv(\"./tianchi_ad/submit.txt\",sep=' ',index=False,float_format='%.4f')"
   ]
  },
  {
   "cell_type": "code",
   "execution_count": null,
   "metadata": {},
   "outputs": [],
   "source": []
  }
 ],
 "metadata": {
  "kernelspec": {
   "display_name": "Python 2",
   "language": "python",
   "name": "python2"
  },
  "language_info": {
   "codemirror_mode": {
    "name": "ipython",
    "version": 2
   },
   "file_extension": ".py",
   "mimetype": "text/x-python",
   "name": "python",
   "nbconvert_exporter": "python",
   "pygments_lexer": "ipython2",
   "version": "2.7.6"
  }
 },
 "nbformat": 4,
 "nbformat_minor": 0
}
